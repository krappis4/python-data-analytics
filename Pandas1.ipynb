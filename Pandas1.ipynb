{
  "nbformat": 4,
  "nbformat_minor": 0,
  "metadata": {
    "colab": {
      "name": "Untitled5.ipynb",
      "provenance": [],
      "authorship_tag": "ABX9TyMHIZ6esojw+SaLYmwz6zXk",
      "include_colab_link": true
    },
    "kernelspec": {
      "name": "python3",
      "display_name": "Python 3"
    },
    "language_info": {
      "name": "python"
    }
  },
  "cells": [
    {
      "cell_type": "markdown",
      "metadata": {
        "id": "view-in-github",
        "colab_type": "text"
      },
      "source": [
        "<a href=\"https://colab.research.google.com/github/krappis4/example1-apps/blob/master/Pandas1.ipynb\" target=\"_parent\"><img src=\"https://colab.research.google.com/assets/colab-badge.svg\" alt=\"Open In Colab\"/></a>"
      ]
    },
    {
      "cell_type": "code",
      "source": [
        "import numpy as np\n",
        "import pandas as pd"
      ],
      "metadata": {
        "id": "y9Iy66nJ5YcE"
      },
      "execution_count": 3,
      "outputs": []
    },
    {
      "cell_type": "code",
      "source": [
        "ds = pd.read_csv('ratings.csv')\n",
        "print(ds[ds['rating'] == 5.0]['movieId'].value_counts().head(1))"
      ],
      "metadata": {
        "id": "wWbhRs5w5K8m"
      },
      "execution_count": null,
      "outputs": []
    },
    {
      "cell_type": "code",
      "source": [
        "ds = pd.read_csv('power.csv')\n",
        "ds = ds[(ds.year>=2005)&(ds.year<=2010)&(ds.quantity>0)]\n",
        "ds = ds[ds.category.isin([4,12,21])]\n",
        "ds = ds[ds.country.str.contains('|'.join(['Lat', 'Lit', 'Est']))]\n",
        "ds = ds[(ds.country=='Lat')|(ds.country=='Lit')|(ds.country=='Est')]\n",
        "summ = ds.quantity.sum()\n",
        "print(summ)"
      ],
      "metadata": {
        "id": "KQGbN9ou5a24"
      },
      "execution_count": null,
      "outputs": []
    },
    {
      "cell_type": "code",
      "source": [
        "ds = pd.read_html('https://fortrader.org/quotes')[2]\n",
        "print(ds.head(10))"
      ],
      "metadata": {
        "colab": {
          "base_uri": "https://localhost:8080/"
        },
        "id": "JB-VqR2y5dij",
        "outputId": "b02c41be-8c98-4d2c-d837-745aeed1c54b"
      },
      "execution_count": 5,
      "outputs": [
        {
          "output_type": "stream",
          "name": "stdout",
          "text": [
            "                           Название   Цена  Изменение  Изменение(%)  Обновлено\n",
            "0       Золото Цена золота на бирже  1 827       4.00          0.00        NaN\n",
            "1  Серебро Цена на серебро на бирже  21.83       0.23          1.08        NaN\n",
            "2         Палладий Цена на Палладий  1 865      29.00          2.00        NaN\n",
            "3           Платина Цены на платину    950      18.00          2.00        NaN\n",
            "4           Медь Цена меди на бирже   4.06       0.05          1.16        NaN\n"
          ]
        }
      ]
    }
  ]
}