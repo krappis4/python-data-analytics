{
  "nbformat": 4,
  "nbformat_minor": 0,
  "metadata": {
    "colab": {
      "name": "Untitled4.ipynb",
      "provenance": [],
      "authorship_tag": "ABX9TyP4m3Sw6zN50kjmaQjDXLjM",
      "include_colab_link": true
    },
    "kernelspec": {
      "name": "python3",
      "display_name": "Python 3"
    },
    "language_info": {
      "name": "python"
    }
  },
  "cells": [
    {
      "cell_type": "markdown",
      "metadata": {
        "id": "view-in-github",
        "colab_type": "text"
      },
      "source": [
        "<a href=\"https://colab.research.google.com/github/krappis4/example1-apps/blob/master/REGEX.ipynb\" target=\"_parent\"><img src=\"https://colab.research.google.com/assets/colab-badge.svg\" alt=\"Open In Colab\"/></a>"
      ]
    },
    {
      "cell_type": "code",
      "source": [
        "import regex\n",
        "import re"
      ],
      "metadata": {
        "id": "exuX9xM-2x22"
      },
      "execution_count": 1,
      "outputs": []
    },
    {
      "cell_type": "code",
      "execution_count": 2,
      "metadata": {
        "colab": {
          "base_uri": "https://localhost:8080/"
        },
        "id": "GcmNVDuo2v21",
        "outputId": "a013e145-9c84-407f-ecd9-606a58ae9819"
      },
      "outputs": [
        {
          "output_type": "stream",
          "name": "stdout",
          "text": [
            "123рр\n",
            "1\n"
          ]
        }
      ],
      "source": [
        "\n",
        "def func1(strr):\n",
        "    if re.fullmatch(r'^[АВЕКМНОРСТУХ]\\d{3}[АВЕКМНОРСТУХ]{2}\\d{2,3}$', strr, flags=re.I):\n",
        "        number = re.search(r'^[АВЕКМНОРСТУХ]\\d{3}[АВЕКМНОРСТУХ]{2}', strr, flags=re.I)\n",
        "        region = re.search(r'\\d{2,3}$', strr)\n",
        "        print(f\"Номер {number[0]} валиден. Регион: {region[0]}\")\n",
        "    else:\n",
        "        print(\"Номер не валиден\")\n",
        "def func2(strr):\n",
        "    #strr = re.sub(r'\\W+', ' ', strr)\n",
        "    pattern = r'(\\w+)(\\s+\\1)+'\n",
        "    pattern2 = r'([^\\W\\d_]+)(\\s+\\1)+'\n",
        "    strr = re.sub(pattern2, r'\\1', strr, flags=re.I)\n",
        "    print(strr)\n",
        "    \n",
        "def func3(strr):\n",
        "    #re.sub(r'\\W+', '', strr)\n",
        "    #print(strr)\n",
        "    pattern = r'(\\w)(\\w+\\s*)'\n",
        "    pattern2 = r'([^\\W\\d_])([^\\W\\d_]+(\\s+|$))'\n",
        "    strr = re.sub(pattern, r'\\1', strr).upper()\n",
        "    print(strr)\n",
        "def func4(emails):\n",
        "    d = {}\n",
        "    for i in re.findall(r'@\\w+[.]\\w+', str(emails)):\n",
        "        d[i] = d.setdefault(i, 0) + 1\n",
        "    for key, val in d.items():\n",
        "        print(f\"{key}: {val}\")\n",
        "    \n",
        "strr = input()\n",
        "emails = ['test@gmail.com', 'xyz@test.in', 'test@ya.ru', 'xyz@mail.ru', 'xyz@ya.ru', 'xyz@gmail.com']\n",
        "func3(strr)"
      ]
    }
  ]
}