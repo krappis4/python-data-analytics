{
  "nbformat": 4,
  "nbformat_minor": 0,
  "metadata": {
    "colab": {
      "name": "Untitled5.ipynb",
      "provenance": [],
      "authorship_tag": "ABX9TyMhdHBOzDI4vfE2GICDx4gh",
      "include_colab_link": true
    },
    "kernelspec": {
      "name": "python3",
      "display_name": "Python 3"
    },
    "language_info": {
      "name": "python"
    }
  },
  "cells": [
    {
      "cell_type": "markdown",
      "metadata": {
        "id": "view-in-github",
        "colab_type": "text"
      },
      "source": [
        "<a href=\"https://colab.research.google.com/github/krappis4/example1-apps/blob/master/Pandas3.ipynb\" target=\"_parent\"><img src=\"https://colab.research.google.com/assets/colab-badge.svg\" alt=\"Open In Colab\"/></a>"
      ]
    },
    {
      "cell_type": "code",
      "source": [
        "import pandas as pd\n",
        "import re"
      ],
      "metadata": {
        "id": "VryEs3xh8Zcj"
      },
      "execution_count": 11,
      "outputs": []
    },
    {
      "cell_type": "code",
      "source": [
        "#1\n",
        "dt = pd.read_csv('visit_log1.csv', sep=';')\n",
        "def f(line):\n",
        "    if line['traffic_source'] == 'yandex':\n",
        "        return 'organic'\n",
        "    elif line['traffic_source'] == ('paid' or 'email') and line['region'] == 'Russia':\n",
        "        return 'ad'  \n",
        "    elif line['traffic_source'] == ('paid' or 'email') and line['region'] != 'Russia':\n",
        "        return 'other'     \n",
        "    else:\n",
        "        return line['traffic_source']\n",
        "    \n",
        "dt['source_type'] = dt.apply(f, axis=1)\n",
        "print(dt.head(10))"
      ],
      "metadata": {
        "colab": {
          "base_uri": "https://localhost:8080/"
        },
        "id": "rkk2n5FB8c0G",
        "outputId": "13c7560a-f124-4058-8fa8-cceefed9187a"
      },
      "execution_count": 12,
      "outputs": [
        {
          "output_type": "stream",
          "name": "stdout",
          "text": [
            "    timestamp    visit_id                                 url  region  \\\n",
            "0  1549980692  e3b0c44298  https://host.ru/3c19b4ef7371864fa3  Russia   \n",
            "1  1549980704  6e340b9cff  https://host.ru/c8d9213a31839f9a3a  Russia   \n",
            "2  1549980715  96a296d224  https://host.ru/b8b58337d272ee7b15  Russia   \n",
            "3  1549980725  709e80c884  https://host.ru/b8b58337d272ee7b15  Russia   \n",
            "4  1549980736  df3f619804  https://host.ru/b8b58337d272ee7b15  Russia   \n",
            "5  1549980742  8855508aad  https://host.ru/df646c3676cc259fa0  Russia   \n",
            "6  1549980742  b0f66adc83  https://host.ru/b8b58337d272ee7b15  Russia   \n",
            "7  1549980754  837885c8f8  https://host.ru/108ce4b365afb7b88e  Russia   \n",
            "8  1549980760  af5570f5a1  https://host.ru/3004a8273caeef2867   China   \n",
            "9  1549980765  3e7077fd2f  https://host.ru/df646c3676cc259fa0  Russia   \n",
            "\n",
            "      user_id traffic_source source_type  \n",
            "0  b1613cc09f         yandex     organic  \n",
            "1  4c3ec14bee         direct      direct  \n",
            "2  a8c40697fb         yandex     organic  \n",
            "3  521ac1d6a0         yandex     organic  \n",
            "4  d7323c571c         yandex     organic  \n",
            "5  fc43898e47         yandex     organic  \n",
            "6  13fc55e781           paid          ad  \n",
            "7  cb5082b6f6         direct      direct  \n",
            "8  45664f7af2         direct      direct  \n",
            "9  6f9de8c8b6          email       email  \n"
          ]
        }
      ]
    },
    {
      "cell_type": "code",
      "source": [
        "\n",
        "#2\n",
        "urls = pd.read_csv('URLs.txt')\n",
        "print(urls[urls.url.str.contains(r'/[0-9]{8}-')].head())"
      ],
      "metadata": {
        "colab": {
          "base_uri": "https://localhost:8080/"
        },
        "id": "Q6GSQBGL8V28",
        "outputId": "23ac9be1-0adf-4b7e-b575-8c32ca87876f"
      },
      "execution_count": 13,
      "outputs": [
        {
          "output_type": "stream",
          "name": "stdout",
          "text": [
            "                                                 url\n",
            "3  /politics/36188461-s-marta-zhizn-rossiyan-susc...\n",
            "4  /world/36007585-tramp-pridumal-kak-reshit-ukra...\n",
            "5  /science/36157853-nasa-sobiraet-ekstrennuyu-pr...\n",
            "6  /video/36001498-poyavilis-pervye-podrobnosti-g...\n",
            "7  /world/36007585-tramp-pridumal-kak-reshit-ukra...\n"
          ]
        }
      ]
    },
    {
      "cell_type": "code",
      "source": [
        "#3\n",
        "dt = pd.read_csv('ratings-small.csv')\n",
        "dt1 = dt.groupby('userId')\n",
        "dt1 = dt1['timestamp'].agg({'count', lambda x: max(x) - min(x)})\n",
        "dt1 = dt1.reset_index()\n",
        "dt1 = dt1.rename(columns={'<lambda_0>':'life'})\n",
        "dt1 = dt1[dt1['count'] > 100]['life'].mean()\n",
        "print(dt1)\n",
        "#4\n",
        "rzd = pd.DataFrame(\n",
        "    {\n",
        "        'client_id': [111, 112, 113, 114, 115],\n",
        "        'rzd_revenue': [1093, 2810, 10283, 5774, 981]\n",
        "    }\n",
        ")\n",
        "auto = pd.DataFrame(\n",
        "    {\n",
        "        'client_id': [113, 114, 115, 116, 117],\n",
        "        'auto_revenue': [57483, 83, 912, 4834, 98]\n",
        "    }\n",
        ")\n",
        "air = pd.DataFrame(\n",
        "    {\n",
        "        'client_id': [115, 116, 117, 118],\n",
        "        'air_revenue': [81, 4, 13, 173]\n",
        "    }\n",
        ")\n",
        "client_base = pd.DataFrame(\n",
        "    {\n",
        "        'client_id': [111, 112, 113, 114, 115, 116, 117, 118],\n",
        "        'address': ['Комсомольская 4', 'Энтузиастов 8а', 'Левобережная 1а', 'Мира 14', 'ЗЖБИиДК 1', \n",
        "                    'Строителей 18', 'Панфиловская 33', 'Мастеркова 4']\n",
        "    }\n",
        ")\n",
        "dt1 = rzd.merge(auto, how='outer', on='client_id')\n",
        "dt1 = dt1.merge(air, how='outer', on='client_id')\n",
        "dt1.loc[dt1.rzd_revenue.isnull(), 'rzd_revenue']=0\n",
        "dt1.loc[dt1.auto_revenue.isnull(), 'auto_revenue']=0\n",
        "dt1.loc[dt1.air_revenue.isnull(), 'air_revenue']=0\n",
        "print(dt1)\n",
        "dt2 = dt1.merge(client_base, how='outer', on='client_id')\n",
        "print(dt2)"
      ],
      "metadata": {
        "colab": {
          "base_uri": "https://localhost:8080/"
        },
        "id": "KXaWWFFW8fdE",
        "outputId": "7fd5e076-e17d-4d45-f151-0614f811f6a9"
      },
      "execution_count": 14,
      "outputs": [
        {
          "output_type": "stream",
          "name": "stdout",
          "text": [
            "44731367.73469388\n",
            "   client_id  rzd_revenue  auto_revenue  air_revenue\n",
            "0        111       1093.0           0.0          0.0\n",
            "1        112       2810.0           0.0          0.0\n",
            "2        113      10283.0       57483.0          0.0\n",
            "3        114       5774.0          83.0          0.0\n",
            "4        115        981.0         912.0         81.0\n",
            "5        116          0.0        4834.0          4.0\n",
            "6        117          0.0          98.0         13.0\n",
            "7        118          0.0           0.0        173.0\n",
            "   client_id  rzd_revenue  auto_revenue  air_revenue          address\n",
            "0        111       1093.0           0.0          0.0  Комсомольская 4\n",
            "1        112       2810.0           0.0          0.0   Энтузиастов 8а\n",
            "2        113      10283.0       57483.0          0.0  Левобережная 1а\n",
            "3        114       5774.0          83.0          0.0          Мира 14\n",
            "4        115        981.0         912.0         81.0        ЗЖБИиДК 1\n",
            "5        116          0.0        4834.0          4.0    Строителей 18\n",
            "6        117          0.0          98.0         13.0  Панфиловская 33\n",
            "7        118          0.0           0.0        173.0     Мастеркова 4\n"
          ]
        }
      ]
    }
  ]
}