{
  "nbformat": 4,
  "nbformat_minor": 0,
  "metadata": {
    "colab": {
      "name": "Untitled5.ipynb",
      "provenance": [],
      "authorship_tag": "ABX9TyMlCQlItmnO4/KHnWnTAWgr",
      "include_colab_link": true
    },
    "kernelspec": {
      "name": "python3",
      "display_name": "Python 3"
    },
    "language_info": {
      "name": "python"
    }
  },
  "cells": [
    {
      "cell_type": "markdown",
      "metadata": {
        "id": "view-in-github",
        "colab_type": "text"
      },
      "source": [
        "<a href=\"https://colab.research.google.com/github/krappis4/example1-apps/blob/master/requestsPY.ipynb\" target=\"_parent\"><img src=\"https://colab.research.google.com/assets/colab-badge.svg\" alt=\"Open In Colab\"/></a>"
      ]
    },
    {
      "cell_type": "code",
      "source": [
        "import requests"
      ],
      "metadata": {
        "id": "ktlfvS-x9a7O"
      },
      "execution_count": 18,
      "outputs": []
    },
    {
      "cell_type": "code",
      "source": [
        "class Rate:\n",
        "    def _init_(self, format_='value', diff=False):\n",
        "        self.format = format_    \n",
        "        self.diff = diff\n",
        "    def exchange_rates(self):\n",
        "        self.r = requests.get('https://www.cbr-xml-daily.ru/daily_json.js')\n",
        "        return self.r.json()['Valute']\n",
        "    def make_format(self, currency):\n",
        "        response = self.exchange_rates()\n",
        "        if currency in response:\n",
        "            if self.format == 'full':\n",
        "                return response[currency]\n",
        "            if self.diff and self.format == 'value':\n",
        "                return response[currency]['Value'] - response[currency]['Previous']            \n",
        "            if not(self.diff) and self.format == 'value':\n",
        "                return response[currency]['Value']\n",
        "        return 'Error'\n",
        "    def eur(self):\n",
        "        return self.make_format('EUR')\n",
        "    def usd(self):\n",
        "        return self.make_format('USD') \n",
        "    def max_(self):\n",
        "        response = self.exchange_rates()\n",
        "        max_rate = max(response.values(), key=lambda f: f['Value'])\n",
        "        return max_rate.get('Name')"
      ],
      "metadata": {
        "id": "FMBPRihT9bem"
      },
      "execution_count": 19,
      "outputs": []
    },
    {
      "cell_type": "code",
      "source": [
        "rate = Rate()\n",
        "rate._init_('full', True)\n",
        "print(rate.eur())\n",
        "rate.format = 'value'\n",
        "print(rate.eur())\n",
        "rate.diff = False\n",
        "print(rate.eur())"
      ],
      "metadata": {
        "id": "YWGJquLC9fIN",
        "outputId": "383e1ef9-a1a7-4fc9-d5f6-e9cb19188ff6",
        "colab": {
          "base_uri": "https://localhost:8080/"
        }
      },
      "execution_count": 20,
      "outputs": [
        {
          "output_type": "stream",
          "name": "stdout",
          "text": [
            "{'ID': 'R01239', 'NumCode': '978', 'CharCode': 'EUR', 'Nominal': 1, 'Name': 'Евро', 'Value': 57.4566, 'Previous': 58.8003}\n",
            "-1.3436999999999983\n",
            "57.4566\n"
          ]
        }
      ]
    }
  ]
}