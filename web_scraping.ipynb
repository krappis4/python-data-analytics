{
  "nbformat": 4,
  "nbformat_minor": 0,
  "metadata": {
    "colab": {
      "name": "Untitled5.ipynb",
      "provenance": [],
      "authorship_tag": "ABX9TyPFofWvqAqdFm4GbTF1ViF5",
      "include_colab_link": true
    },
    "kernelspec": {
      "name": "python3",
      "display_name": "Python 3"
    },
    "language_info": {
      "name": "python"
    }
  },
  "cells": [
    {
      "cell_type": "markdown",
      "metadata": {
        "id": "view-in-github",
        "colab_type": "text"
      },
      "source": [
        "<a href=\"https://colab.research.google.com/github/krappis4/example1-apps/blob/master/web_scraping.ipynb\" target=\"_parent\"><img src=\"https://colab.research.google.com/assets/colab-badge.svg\" alt=\"Open In Colab\"/></a>"
      ]
    },
    {
      "cell_type": "markdown",
      "source": [
        "Вам необходимо написать функцию, которая будет основана на поиске по сайту habr.com. Функция в качестве параметра должна принимать список запросов для поиска (например, ['python', 'анализ данных']) и на основе материалов, попавших в результаты поиска по каждому запросу, возвращать датафрейм вида:\n",
        "\n",
        "<дата> - <заголовок> - <ссылка на материал>\n",
        "В рамках задания предполагается работа только с одной (первой) страницей результатов поисковой выдачи для каждого запроса. Материалы в датафрейме не должны дублироваться, если они попадали в результаты поиска для нескольких запросов из списка."
      ],
      "metadata": {
        "id": "1kFmENn6-3Fj"
      }
    },
    {
      "cell_type": "code",
      "source": [
        "import pandas as pd\n",
        "import json\n",
        "import requests as req\n",
        "from bs4 import BeautifulSoup"
      ],
      "metadata": {
        "id": "PadprSqC95qs"
      },
      "execution_count": 21,
      "outputs": []
    },
    {
      "cell_type": "code",
      "source": [
        "def search_requests(requests):\n",
        "    for i in requests:\n",
        "        data_ = pd.DataFrame({'Дата':[], 'Заголовок':[], 'Ссылка':[]})\n",
        "        url = 'https://habr.com/ru/search/?q=' + i + '&target_type=posts&order=relevance'\n",
        "        dt = req.get(url)\n",
        "        bs = BeautifulSoup(dt.content, 'html.parser')\n",
        "        a = []\n",
        "        for x in bs.find_all('time'):\n",
        "            a.append(x.text)\n",
        "        data_['Дата'] = a\n",
        "        a.clear()\n",
        "        for x in bs.find_all('a', class_='tm-article-snippet__title-link'):\n",
        "            a.append(x.text)\n",
        "        data_['Заголовок'] = a\n",
        "        a.clear()\n",
        "        for x in bs.find_all('a', class_='tm-article-snippet__title-link'):\n",
        "            a.append('https://habr.com' + x.get('href'))\n",
        "        data_['Ссылка'] = a\n",
        "        print(data_)"
      ],
      "metadata": {
        "id": "mly-qoa698C8"
      },
      "execution_count": 22,
      "outputs": []
    },
    {
      "cell_type": "code",
      "source": [
        "search_requests(['python', 'пандас'])"
      ],
      "metadata": {
        "colab": {
          "base_uri": "https://localhost:8080/"
        },
        "id": "XNcZRm_v999s",
        "outputId": "55856237-d4a7-46af-d3b9-1dd904697305"
      },
      "execution_count": 23,
      "outputs": [
        {
          "output_type": "stream",
          "name": "stdout",
          "text": [
            "                          Дата  \\\n",
            "0         20  января   в 18:37   \n",
            "1    13  декабря  2021 в 09:00   \n",
            "2     21  апреля  2020 в 18:35   \n",
            "3        6  июля  2021 в 13:29   \n",
            "4         13  января   в 18:35   \n",
            "5     4  декабря  2020 в 21:03   \n",
            "6           8  марта   в 12:13   \n",
            "7       3  марта  2020 в 13:22   \n",
            "8     16  ноября  2021 в 16:09   \n",
            "9        3  июня  2020 в 09:00   \n",
            "10    13  ноября  2020 в 10:10   \n",
            "11   31  октября  2019 в 10:02   \n",
            "12    6  октября  2021 в 12:36   \n",
            "13   11  октября  2021 в 10:02   \n",
            "14           3  июня   в 14:47   \n",
            "15  16  сентября  2020 в 16:48   \n",
            "16        15  января   в 19:00   \n",
            "17           18  мая   в 18:33   \n",
            "18         18  марта   в 18:31   \n",
            "19        22  апреля   в 14:42   \n",
            "\n",
            "                                            Заголовок  \\\n",
            "0   Курс «Python для инженеров». Старт 3 потока 31...   \n",
            "1   Жаждущим автоматизации: открытый урок «ChatOps...   \n",
            "2   Вышел Python 2.7.18, последний релиз ветки Pyt...   \n",
            "3   Python Community Meetup 8/07: видео и материал...   \n",
            "4   Открытый урок «Пишем Custom Prometheus Exporte...   \n",
            "5   Python как компилируемый статически типизирова...   \n",
            "6   Вышел мартовский релиз расширения Python для V...   \n",
            "7    ...  начале этого года Python сместил Java и ...   \n",
            "8   EPAM разработала бесплатный курс по программир...   \n",
            "9   Вышла версия 0.0.2 snakeware — дистрибутива Li...   \n",
            "10  Создатель Python Гвидо ван Россум выходит на р...   \n",
            "11  Создатель Python Гвидо ван Россум ушел из Drop...   \n",
            "12          Вышел язык программирования Python 3.10.0   \n",
            "13  Python вышел на первое место рейтинга TIOBE, и...   \n",
            "14  «Тестирование веб-приложений на Python» — новы...   \n",
            "15  Астрономам порекомендовали меньше использовать...   \n",
            "16  Разработчик предложил устроить коммунистическу...   \n",
            "17  Слёрм запускает 3-дневный интенсив по Python д...   \n",
            "18  24 марта Слёрм проведёт открытый урок «Первый ...   \n",
            "19  TechnoMeetsPython. Онлайн митап о Python-разра...   \n",
            "\n",
            "                                               Ссылка  \n",
            "0   https://habr.com/ru/company/southbridge/news/t...  \n",
            "1   https://habr.com/ru/company/southbridge/news/t...  \n",
            "2                  https://habr.com/ru/news/t/498364/  \n",
            "3   https://habr.com/ru/company/raiffeisenbank/new...  \n",
            "4   https://habr.com/ru/company/southbridge/news/t...  \n",
            "5                  https://habr.com/ru/news/t/531402/  \n",
            "6                  https://habr.com/ru/news/t/654707/  \n",
            "7   https://habr.com/ru/company/itsumma/news/t/490...  \n",
            "8   https://habr.com/ru/company/epam_systems/news/...  \n",
            "9                  https://habr.com/ru/news/t/505096/  \n",
            "10                 https://habr.com/ru/news/t/527858/  \n",
            "11                 https://habr.com/ru/news/t/473926/  \n",
            "12                 https://habr.com/ru/news/t/581862/  \n",
            "13                 https://habr.com/ru/news/t/582682/  \n",
            "14  https://habr.com/ru/company/yandex_praktikum/n...  \n",
            "15                 https://habr.com/ru/news/t/519414/  \n",
            "16                 https://habr.com/ru/news/t/645777/  \n",
            "17  https://habr.com/ru/company/southbridge/news/t...  \n",
            "18  https://habr.com/ru/company/southbridge/news/t...  \n",
            "19                 https://habr.com/ru/news/t/662437/  \n",
            "                         Дата  \\\n",
            "0   18  февраля  2020 в 10:24   \n",
            "1           8  июня   в 10:32   \n",
            "2    30  ноября  2021 в 12:38   \n",
            "3       4  июня  2020 в 09:23   \n",
            "4    8  февраля  2019 в 11:28   \n",
            "5     4  апреля  2020 в 00:00   \n",
            "6      25  июня  2020 в 09:30   \n",
            "7           19  мая   в 08:26   \n",
            "8    24  апреля  2017 в 14:00   \n",
            "9   27  августа  2020 в 13:42   \n",
            "10    6  апреля  2021 в 18:09   \n",
            "11  13  декабря  2021 в 09:57   \n",
            "12      21  февраля   в 09:47   \n",
            "\n",
            "                                            Заголовок  \\\n",
            "0                  Пандас и другие для толстых данных   \n",
            "1   Кто за всех решил, что python удобен для «граж...   \n",
            "2               Data Science 'по ту сторону изгороди'   \n",
            "3   10 полезных практик для ML-разработчиков на Пи...   \n",
            "4        Как программист датасаентистам кернелы писал   \n",
            "5   Перспективны ли просевшие акции? Проанализируе...   \n",
            "6   Интерактивные финансовые данные в 20 строках кода   \n",
            "7        Мой опыт с резиновым мужиком. Github Copilot   \n",
            "8   Открытый курс машинного обучения. Тема 9. Анал...   \n",
            "9                          Волны московской реновации   \n",
            "10   Трансформация резюме. Опыт и Яндекс.Кью в помощь   \n",
            "11  Парсим ГАР БД ФИАС в удобный формат в питоне. ...   \n",
            "12                                      Неравный join   \n",
            "\n",
            "                                               Ссылка  \n",
            "0                    https://habr.com/ru/post/488594/  \n",
            "1                    https://habr.com/ru/post/670250/  \n",
            "2                    https://habr.com/ru/post/592491/  \n",
            "3                    https://habr.com/ru/post/505082/  \n",
            "4   https://habr.com/ru/company/odnoklassniki/blog...  \n",
            "5                    https://habr.com/ru/post/495404/  \n",
            "6                    https://habr.com/ru/post/507954/  \n",
            "7                    https://habr.com/ru/post/666538/  \n",
            "8        https://habr.com/ru/company/ods/blog/327242/  \n",
            "9                    https://habr.com/ru/post/516790/  \n",
            "10                   https://habr.com/ru/post/551104/  \n",
            "11                   https://habr.com/ru/post/595107/  \n",
            "12                   https://habr.com/ru/post/652629/  \n"
          ]
        }
      ]
    }
  ]
}