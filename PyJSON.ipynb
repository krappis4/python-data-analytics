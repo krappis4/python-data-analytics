{
  "nbformat": 4,
  "nbformat_minor": 0,
  "metadata": {
    "colab": {
      "name": "Untitled5.ipynb",
      "provenance": [],
      "authorship_tag": "ABX9TyOp/cfZQy6pno7byxctzNzZ",
      "include_colab_link": true
    },
    "kernelspec": {
      "name": "python3",
      "display_name": "Python 3"
    },
    "language_info": {
      "name": "python"
    }
  },
  "cells": [
    {
      "cell_type": "markdown",
      "metadata": {
        "id": "view-in-github",
        "colab_type": "text"
      },
      "source": [
        "<a href=\"https://colab.research.google.com/github/krappis4/example1-apps/blob/master/PyJSON.ipynb\" target=\"_parent\"><img src=\"https://colab.research.google.com/assets/colab-badge.svg\" alt=\"Open In Colab\"/></a>"
      ]
    },
    {
      "cell_type": "code",
      "source": [
        "import json"
      ],
      "metadata": {
        "id": "T8qnyUtz9AHk"
      },
      "execution_count": 15,
      "outputs": []
    },
    {
      "cell_type": "code",
      "source": [
        "purchase = {}\n",
        "with open('purchase_log.txt','r', encoding = 'utf-8-sig') as f:\n",
        "    for line in f:\n",
        "        dict_ = json.loads(line) \n",
        "        for x in dict_:\n",
        "            key = dict_['user_id']\n",
        "            value = dict_['category']\n",
        "            purchase[key] = value"
      ],
      "metadata": {
        "id": "1YLkfyeK9D3t"
      },
      "execution_count": 16,
      "outputs": []
    },
    {
      "cell_type": "code",
      "source": [
        "with open(\"visit_log.csv\", \"r\") as f1:\n",
        "    with open(\"funnel.csv\", \"w\") as f2:\n",
        "        for i in f1:\n",
        "            visits = i.strip().split(\",\")\n",
        "            category = purchase.get(visits[0])\n",
        "            if category != None:\n",
        "                visits.append(category)\n",
        "                f2.write(\",\".join(visits) + \"\\n\")"
      ],
      "metadata": {
        "id": "QcpFdRwE9Jku"
      },
      "execution_count": 17,
      "outputs": []
    }
  ]
}