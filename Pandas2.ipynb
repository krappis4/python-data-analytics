{
  "nbformat": 4,
  "nbformat_minor": 0,
  "metadata": {
    "colab": {
      "name": "Untitled5.ipynb",
      "provenance": [],
      "authorship_tag": "ABX9TyOnXkcdaVqiQSYGTnOQ+Q0Y",
      "include_colab_link": true
    },
    "kernelspec": {
      "name": "python3",
      "display_name": "Python 3"
    },
    "language_info": {
      "name": "python"
    }
  },
  "cells": [
    {
      "cell_type": "markdown",
      "metadata": {
        "id": "view-in-github",
        "colab_type": "text"
      },
      "source": [
        "<a href=\"https://colab.research.google.com/github/krappis4/example1-apps/blob/master/Pandas2.ipynb\" target=\"_parent\"><img src=\"https://colab.research.google.com/assets/colab-badge.svg\" alt=\"Open In Colab\"/></a>"
      ]
    },
    {
      "cell_type": "code",
      "source": [
        "import pandas as pd"
      ],
      "metadata": {
        "id": "HZQkfoFh6FNT"
      },
      "execution_count": 6,
      "outputs": []
    },
    {
      "cell_type": "code",
      "source": [
        "#1\n",
        "dt = pd.read_csv('ratings.csv')\n",
        "def rating(line):\n",
        "    if line['rating'] <= 2.0:\n",
        "        return 'низкий рейтинг'\n",
        "    if 2.0 < line['rating'] <= 4.0:\n",
        "        return 'средний рейтинг'\n",
        "    if line['rating'] > 4.0:\n",
        "        return 'высокий рейтинг'\n",
        "dt['class'] = dt.apply(rating, axis=1)\n",
        "print(dt.head())"
      ],
      "metadata": {
        "colab": {
          "base_uri": "https://localhost:8080/"
        },
        "id": "PqXUkHTH6FqS",
        "outputId": "402f8feb-e0d5-46e0-aa85-31886d373e9c"
      },
      "execution_count": 8,
      "outputs": [
        {
          "output_type": "stream",
          "name": "stdout",
          "text": [
            "   userId  movieId  rating   timestamp            class\n",
            "0       1       31     2.5  1260759144  средний рейтинг\n",
            "1       1     1029     3.0  1260759179  средний рейтинг\n",
            "2       1     1061     3.0  1260759182  средний рейтинг\n",
            "3       1     1129     2.0  1260759185   низкий рейтинг\n",
            "4       1     1172     4.0  1260759205  средний рейтинг\n"
          ]
        }
      ]
    },
    {
      "cell_type": "code",
      "source": [
        "#2\n",
        "dt = pd.read_csv('keywords.csv')\n",
        "geo_data = {\n",
        "'Центр':['москва', 'тула', 'ярославль'],\n",
        "'Северо-Запад':['петербург', 'псков', 'мурманск'],\n",
        "'Дальний Восток':['владивосток', 'сахалин', 'хабаровск'] \n",
        "}\n",
        "def f(line):\n",
        "    for key, value in geo_data.items():\n",
        "        for i in value:\n",
        "            if i in line['keyword']:\n",
        "                return key\n",
        "    return 'undefined'\n",
        "dt['region'] = dt.apply(f, axis=1)\n",
        "print(dt[(dt['region'] != 'undefined')].head())"
      ],
      "metadata": {
        "colab": {
          "base_uri": "https://localhost:8080/"
        },
        "id": "N_ffTuHc6JB0",
        "outputId": "58a00cda-3c64-4c91-9210-94a75d9a1e93"
      },
      "execution_count": 9,
      "outputs": [
        {
          "output_type": "stream",
          "name": "stdout",
          "text": [
            "                        keyword   shows          region\n",
            "127                авито москва  979292           Центр\n",
            "370    авито ру санкт петербург  425134    Северо-Запад\n",
            "564   погода в санкт петербурге  292489    Северо-Запад\n",
            "849             авито ярославль  209581           Центр\n",
            "1063        фарпост владивосток  176951  Дальний Восток\n"
          ]
        }
      ]
    },
    {
      "cell_type": "code",
      "source": [
        "#3\n",
        "years = [str(i) for i in range(1950, 2011)]\n",
        "def production_year(line):\n",
        "    for year in years:\n",
        "        if year in line['title']:\n",
        "            return year\n",
        "    return '1900'\n",
        "movies = pd.read_csv('movies.csv')\n",
        "ratings = pd.read_csv('ratings.csv')\n",
        "movies['year'] = movies.apply(production_year, axis=1)\n",
        "dt = ratings.merge(movies).groupby('year').agg({'rating': ['mean']})\n",
        "dt.columns = dt.columns.droplevel(0)\n",
        "dt = dt.reset_index()\n",
        "sortdt = dt.sort_values('mean', ascending=False)\n",
        "print(sortdt)"
      ],
      "metadata": {
        "colab": {
          "base_uri": "https://localhost:8080/"
        },
        "id": "9cf7auMF6Nqu",
        "outputId": "c38ac8e5-9af1-40a6-c56f-caca076aac49"
      },
      "execution_count": 10,
      "outputs": [
        {
          "output_type": "stream",
          "name": "stdout",
          "text": [
            "    year      mean\n",
            "8   1957  4.014241\n",
            "23  1972  4.011136\n",
            "3   1952  4.000000\n",
            "5   1954  3.994220\n",
            "2   1951  3.983539\n",
            "..   ...       ...\n",
            "56  2005  3.448434\n",
            "54  2003  3.444777\n",
            "47  1996  3.426600\n",
            "48  1997  3.415764\n",
            "51  2000  3.356104\n",
            "\n",
            "[62 rows x 2 columns]\n"
          ]
        }
      ]
    }
  ]
}