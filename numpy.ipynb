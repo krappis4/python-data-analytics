{
  "nbformat": 4,
  "nbformat_minor": 0,
  "metadata": {
    "colab": {
      "name": "Untitled5.ipynb",
      "provenance": [],
      "authorship_tag": "ABX9TyMmDUYABhkLZ3jeIxGsFI4U",
      "include_colab_link": true
    },
    "kernelspec": {
      "name": "python3",
      "display_name": "Python 3"
    },
    "language_info": {
      "name": "python"
    }
  },
  "cells": [
    {
      "cell_type": "markdown",
      "metadata": {
        "id": "view-in-github",
        "colab_type": "text"
      },
      "source": [
        "<a href=\"https://colab.research.google.com/github/krappis4/example1-apps/blob/master/numpy.ipynb\" target=\"_parent\"><img src=\"https://colab.research.google.com/assets/colab-badge.svg\" alt=\"Open In Colab\"/></a>"
      ]
    },
    {
      "cell_type": "code",
      "execution_count": 1,
      "metadata": {
        "id": "y-vYwoeW32aE"
      },
      "outputs": [],
      "source": [
        "import numpy as np\n",
        "from numpy import linalg\n",
        "import math"
      ]
    },
    {
      "cell_type": "code",
      "source": [
        "n = int(input())\n",
        "a1 = np.arange(n-1, -1, -1)\n",
        "print(a1)\n",
        "a = np.arange(0,n)[::-1]\n",
        "print(a)"
      ],
      "metadata": {
        "id": "6uw1IwET4ome"
      },
      "execution_count": null,
      "outputs": []
    },
    {
      "cell_type": "code",
      "source": [
        "n2 = int(input())\n",
        "a2 = np.arange(n2 - 1, -1, -1, dtype = int).reshape(int(math.sqrt(n2)), int(math.sqrt(n2)))\n",
        "print(a2)\n",
        "ans = 0\n",
        "for i in range(int(math.sqrt(n2))):\n",
        "    ans += a2[i, i]\n",
        "print(ans)\n",
        "ans2 = 0\n",
        "if int(math.sqrt(n2)) % 2 == 0:\n",
        "    ans2 = (n2 - 1) * int(math.sqrt(n2)) / 2\n",
        "else:\n",
        "    ans2 = (n2 - 1) * int((int(math.sqrt(n2)) / 2))\n",
        "    ans2 += (n2 - 1) / 2\n",
        "print(int(ans2))"
      ],
      "metadata": {
        "id": "QKEa84hO4qiz"
      },
      "execution_count": null,
      "outputs": []
    },
    {
      "cell_type": "code",
      "source": [
        "a3 = [[4, 2, 1],\n",
        "      [1, 3, 0],\n",
        "      [0, 5, 4]]\n",
        "b3 = [4, 12, -3]\n",
        "x = np.linalg.solve(a3, b3)\n",
        "print(x)\n",
        "print(np.dot(b3, x))"
      ],
      "metadata": {
        "id": "ewcq7Zhs4v1U"
      },
      "execution_count": null,
      "outputs": []
    },
    {
      "cell_type": "code",
      "source": [
        "def cosine( users_stats, next_user_stats ):\n",
        "    # длины векторов\n",
        "    users_stats_Length = np.linalg.norm( users_stats )\n",
        "    next_user_stats_Length = np.linalg.norm( next_user_stats )\n",
        "    return np.dot( users_stats, next_user_stats ) / ( users_stats_Length * next_user_stats_Length )\n",
        "    #return np.dot( users_stats, next_user_stats ) \n",
        "    #return users_stats_Length * next_user_stats_Length \n",
        "users_stats = np.array(\n",
        "        [[2, 1, 0, 0, 0, 0],\n",
        "            [1, 1, 2, 1, 0, 0],\n",
        "            [2, 0, 1, 0, 0, 0],\n",
        "            [1, 1, 2, 1, 0, 1],\n",
        "            [0, 0, 1, 2, 0, 0],\n",
        "            [0, 0, 0, 0, 0, 5],\n",
        "            [1, 0, 0, 0, 0, 0],\n",
        "            [0, 1, 1, 0, 0, 0],\n",
        "            [0, 0, 0, 1, 1, 3],\n",
        "            [1, 0, 0, 2, 1, 4]], np.int32)\n",
        "next_user_stats = np.array([0, 1, 2, 0, 0, 0])#sqrt5\n",
        "muls = np.apply_along_axis(cosine, 1, users_stats, next_user_stats)\n",
        "muls2 = np.array([cosine(row, next_user_stats) for row in users_stats])\n",
        "#d = np.apply_along_axis(np.cos, 1, users_stats, next_user_stats)\n",
        "#d2 = np.array([cosine(line, next_user_stats) for line in users_stats])\n",
        "best_user = np.argmax(muls2)\n",
        "print(best_user, muls2)"
      ],
      "metadata": {
        "colab": {
          "base_uri": "https://localhost:8080/"
        },
        "id": "-uGp5Gxn4yAE",
        "outputId": "a553aea7-2ab5-4e31-9d9a-c8e8ac828584"
      },
      "execution_count": 2,
      "outputs": [
        {
          "output_type": "stream",
          "name": "stdout",
          "text": [
            "7 [0.2        0.84515425 0.4        0.79056942 0.4        0.\n",
            " 0.         0.9486833  0.         0.        ]\n"
          ]
        }
      ]
    }
  ]
}